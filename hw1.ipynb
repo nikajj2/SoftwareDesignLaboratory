{
  "nbformat": 4,
  "nbformat_minor": 0,
  "metadata": {
    "colab": {
      "provenance": [],
      "collapsed_sections": [],
      "toc_visible": true
    },
    "kernelspec": {
      "name": "python3",
      "display_name": "Python 3"
    },
    "language_info": {
      "name": "python"
    }
  },
  "cells": [
    {
      "cell_type": "markdown",
      "source": [
        "# Homework 1 - Generate vehicle plate numbers\n",
        "\n",
        "Assume a New York State vehicle plate number consists of three uppercase, a dash, and four digits, for example: `OSK-2525`, `DVS-0006`, etc. Your task is to write a function that can randomly generate these strings in the above format.\n",
        "\n",
        "Please complete this notebook on Colab, save it as `.ipynb` and submit that file to Blackboard."
      ],
      "metadata": {
        "id": "QDdy3qZuv3cB"
      }
    },
    {
      "cell_type": "markdown",
      "source": [
        "## Task 1 (7 points)\n",
        "\n",
        "Please complete the `new_license_plate()` function below to return a random license plate string that follows the valid New York State format as specified. You can only change the body of the function using only basic types and features of Python that we have been looking at so far (e.g. basic types, functions, loops, etc.) You may rely on the `random` module of Python to generate random numbers.\n",
        "\n",
        "For your convenience, there's a small loop at the end that will generate 5 random license plates when you complete your function."
      ],
      "metadata": {
        "id": "gu-rYJ9VwmMD"
      }
    },
    {
      "cell_type": "code",
      "execution_count": 1,
      "metadata": {
        "colab": {
          "base_uri": "https://localhost:8080/"
        },
        "id": "kQbih4lkszmA",
        "outputId": "4c0f0570-1b73-44f8-d846-9281db454f4d"
      },
      "outputs": [
        {
          "output_type": "stream",
          "name": "stdout",
          "text": [
            "ELJ-6438\n",
            "LIK-5495\n",
            "OEY-8962\n",
            "YCS-8659\n",
            "EPT-2559\n"
          ]
        }
      ],
      "source": [
        "import random\n",
        "\n",
        "def new_license_plate():\n",
        "    ### YOU CAN ONLY EDIT THIS FUNCTION\n",
        "    #what i did is i generated a 10 digit random number ex:1234567890\n",
        "    #the first 2 digits will be used for the first letter (1,2),\n",
        "    #digits 3,4 will be used for the second letter and 5,6 for the third letter\n",
        "    #four last digits are for the number after the dash\n",
        "    number=random.randint(1000000000,9999999999)\n",
        "    str1=\"\"\n",
        "    count=100000000\n",
        "    while count >=10000:\n",
        "      str1=str1+chr(int(number/count)%26+65)\n",
        "      number=number%count\n",
        "      count=count/100\n",
        "    x=len(str(int(number)))\n",
        "    if x==4:\n",
        "       str1=str1+'-'+str(int(number))\n",
        "    elif x==3:\n",
        "     str1=str1+'-'+'0'+str(int(number))\n",
        "    elif x==2:\n",
        "       str1=str1+'-'+'00'+str(int(number))\n",
        "    else:\n",
        "       str1=str1+'-'+'000'+str(int(number))\n",
        "    return str1\n",
        "\n",
        "for i in range(5):\n",
        "    print(new_license_plate())"
      ]
    },
    {
      "cell_type": "markdown",
      "source": [
        "## Task 2 (3 points)\n",
        "\n",
        "We would like to a parameter `after` to our `new_license_plate` function that tells us to generate only new license plate that is after this license (in lexical graphic order). For example, if `new_license_plate('FUO-3889')` must return strings larger than `FUO-3889`, thus, `OSK-2525` is a valid plate, but not `DVS-7906`."
      ],
      "metadata": {
        "id": "K8ZIpU4BxT1h"
      }
    },
    {
      "cell_type": "markdown",
      "source": [],
      "metadata": {
        "id": "lJotEw4K_er5"
      }
    },
    {
      "cell_type": "code",
      "source": [
        "import random\n",
        "\n",
        "def new_license_plate(after=\"\"):\n",
        "    ### YOU CAN ONLY EDIT THIS FUNCTION\n",
        "    check=False\n",
        "    while check==False:\n",
        "       number=random.randint(1000000000,9999999999)\n",
        "       str1=\"\"\n",
        "       count=100000000\n",
        "       while count >=10000:\n",
        "           str1=str1+chr(int(number/count)%26+65)\n",
        "           number=number%count\n",
        "           count=count/100\n",
        "       x=len(str(int(number)))\n",
        "       if x==4:\n",
        "          str1=str1+'-'+str(int(number))\n",
        "       elif x==3:\n",
        "          str1=str1+'-'+'0'+str(int(number))\n",
        "       elif x==2:\n",
        "           str1=str1+'-'+'00'+str(int(number))\n",
        "       else:\n",
        "          str1=str1+'-'+'000'+str(int(number))\n",
        "       if str1>after:\n",
        "          check=True\n",
        "    return str1\n",
        "\n",
        "plate = new_license_plate()\n",
        "print('The current plate is', plate)\n",
        "for i in range(5):\n",
        "    plate = new_license_plate(plate)\n",
        "    print(plate)"
      ],
      "metadata": {
        "colab": {
          "base_uri": "https://localhost:8080/"
        },
        "id": "ZcvTbUD_tq4u",
        "outputId": "d00e1831-3a82-4b75-b0ce-3e7939bbe47a"
      },
      "execution_count": 2,
      "outputs": [
        {
          "output_type": "stream",
          "name": "stdout",
          "text": [
            "The current plate is GUK-4555\n",
            "UXR-4214\n",
            "VJD-2442\n",
            "YOO-9191\n",
            "YQV-1122\n",
            "ZWR-9177\n"
          ]
        }
      ]
    }
  ]
}