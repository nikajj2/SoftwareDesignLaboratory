{
  "nbformat": 4,
  "nbformat_minor": 0,
  "metadata": {
    "colab": {
      "provenance": [],
      "toc_visible": true
    },
    "kernelspec": {
      "name": "python3",
      "display_name": "Python 3"
    },
    "language_info": {
      "name": "python"
    }
  },
  "cells": [
    {
      "cell_type": "markdown",
      "source": [
        "## Run This First"
      ],
      "metadata": {
        "id": "nhkWgIMqgnz_"
      }
    },
    {
      "cell_type": "code",
      "source": [
        "### PLEASE RUN THIS CELL FIRST to download data files to your colab environment\n",
        "!gdown 1qCQ6edyhTA1kqFWZf1y65ogidivDbBIT\n",
        "!gdown 1DSxCQGZBaPG5bZ2T0fhgPA4wIkoIeiyi"
      ],
      "metadata": {
        "colab": {
          "base_uri": "https://localhost:8080/"
        },
        "id": "OLphU2Y1RcQg",
        "outputId": "602ad1a6-5780-49d5-a5d1-0dde26dc5019"
      },
      "execution_count": 1,
      "outputs": [
        {
          "output_type": "stream",
          "name": "stdout",
          "text": [
            "Downloading...\n",
            "From: https://drive.google.com/uc?id=1qCQ6edyhTA1kqFWZf1y65ogidivDbBIT\n",
            "To: /content/book.txt\n",
            "100% 259k/259k [00:00<00:00, 34.5MB/s]\n",
            "Downloading...\n",
            "From: https://drive.google.com/uc?id=1DSxCQGZBaPG5bZ2T0fhgPA4wIkoIeiyi\n",
            "To: /content/sales.csv\n",
            "100% 42.6k/42.6k [00:00<00:00, 91.4MB/s]\n"
          ]
        }
      ]
    },
    {
      "cell_type": "markdown",
      "source": [
        "## Task 1 - Average Length of Text Lines without Character 'A'\n",
        "\n",
        "Please complete the function `avg_len_without_a()` below that takes a filename, and compute the average length of the text lines without counting the letter `'A'` case insensitive (so `'a'` is also not counted). Your function must returns two numbers (as a tuple), with the first element as the number of lines, and the second element as the average length (rounded to whole integers).\n",
        "\n",
        "In this task, the length of each line is the number of characters counting any space character but excluding the end of of line character at the end (`'\\n'`). For example:\n",
        "\n",
        "* The length of the text line `'Hello world\\n'` is `11`.\n",
        "* The length of the text line `'Aabc\\n'` is `2`.\n",
        "* The average length of a document containing the above lines:\n",
        "```\n",
        "Hello world\n",
        "Aabc\n",
        "```\n",
        "is `7` (rounded from `6.5`).\n",
        "\n",
        "Hint: you can use [`str.rstrip()`](https://docs.python.org/3/library/stdtypes.html#str.rstrip) to remove trailing end of line characters."
      ],
      "metadata": {
        "id": "gu-rYJ9VwmMD"
      }
    },
    {
      "cell_type": "code",
      "source": [
        "def avg_line_len(filename):\n",
        "    ### YOUR CODE HERE\n",
        "     with open(filename,'r') as fi:\n",
        "      sum_length_lines, num_lines=0,0\n",
        "      for line in fi:\n",
        "        sum_length_lines+=len([letter for letter in line.rstrip() if (letter!='A'and  letter!='a')])\n",
        "        num_lines+=1\n",
        "      return (num_lines, round(sum_length_lines/num_lines))\n",
        "\n",
        "avg_line_len('book.txt')"
      ],
      "metadata": {
        "colab": {
          "base_uri": "https://localhost:8080/"
        },
        "id": "ljaYqF5V9QbM",
        "outputId": "54423a3d-695e-4c7a-d751-30bc4132a5b2"
      },
      "execution_count": null,
      "outputs": [
        {
          "output_type": "execute_result",
          "data": {
            "text/plain": [
              "(5877, 39)"
            ]
          },
          "metadata": {},
          "execution_count": 155
        }
      ]
    },
    {
      "cell_type": "markdown",
      "source": [
        "## Task 2  - Product with the Higest Revenue\n",
        "\n",
        "Given a sale transaction data, stored in a CSV file (`sale.csv`) with a similar structure as below:\n",
        "\n",
        "|Customer ID|Transaction ID|Date|Product ID|Item Cost|\n",
        "|---|---|---|---|---|\n",
        "|129482221|T29518|2018/02/28|A|10.99|\n",
        "|129482221|T29518|2018/02/28|B|4.99|\n",
        "|129482221|T93990|2018/03/15|A|9.99|\n",
        "|583910109|T11959|2017/04/13|C|0.99|\n",
        "|583910109|T29852|2017/12/25|D|13.99|\n",
        "|873803751|T35662|2018/01/01|D|13.99|\n",
        "|873803751|T17583|2018/05/08|B|5.99|\n",
        "|873803751|T17583|2018/05/08|A|11.99|\n",
        "|...|...|...|...|...|\n",
        "\n",
        "You are asked to return the **`Product ID`** with the highest total revenue, the total cost of the product in all transactions. . You must return both the **`Product ID`** and the **`Total Revenue`**.\n",
        "\n",
        "Please complete the function `highest_revenue_product()` that takes an instance of [csv.DictReader](https://docs.python.org/3/library/csv.html#csv.DictReader), where you can iterate through each record as a dictionary of column names and values.\n"
      ],
      "metadata": {
        "id": "K8ZIpU4BxT1h"
      }
    },
    {
      "cell_type": "code",
      "source": [
        "import csv\n",
        "\n",
        "def highest_revenue_product(reader):\n",
        "    ### YOUR CODE HERE\n",
        "    IDs=set() #keeps the IDs\n",
        "    listID=[] #keep the ID column of data\n",
        "    #I couldn't run tge loop \"  for row in reader:\" more than once because\n",
        "    #it wouldn't work, therefore I saved the Product ID and Item Cost information\n",
        "    #in lists\n",
        "    listCost=[]# Item Cost column\n",
        "    revenues=[]#will keep the total cost for each ID\n",
        "    for row in reader:\n",
        "      IDs.add(row['Product ID'])\n",
        "      listID.append(row['Product ID'])\n",
        "      listCost.append(row['Item Cost'])\n",
        "    uniqueIDs=list(IDs)#created a list with Unique IDs\n",
        "    for i in range(len(uniqueIDs)):\n",
        "      revenues.append(0)\n",
        "      for j in range(len(listID)):\n",
        "        if uniqueIDs[i]==listID[j]:\n",
        "          revenues[i]+=float(listCost[j])\n",
        "    return uniqueIDs[revenues.index(max(revenues))], max(revenues)\n",
        "\n",
        "with open('sales.csv', 'r') as fi:\n",
        "    reader = csv.DictReader(fi)\n",
        "    print(highest_revenue_product(reader))"
      ],
      "metadata": {
        "colab": {
          "base_uri": "https://localhost:8080/"
        },
        "id": "ZcvTbUD_tq4u",
        "outputId": "ec2cdddc-d271-4f5e-d396-62f67a43dd43"
      },
      "execution_count": null,
      "outputs": [
        {
          "output_type": "stream",
          "name": "stdout",
          "text": [
            "('P58225', 1349.8200000000008)\n"
          ]
        }
      ]
    },
    {
      "cell_type": "markdown",
      "source": [
        "## Task 3  - Find the Most Frequent Customer\n",
        "\n",
        "This task is similar to Task 2. We would like to find out the most frequent customer, who was involved in the most transactions from the sales data set. Your task is to compute the most frequent **`Customer ID`** and the number of transactions that he/she was involved (i.e. the unique number of **`Transaction ID`**).\n",
        "\n",
        "Please complete the `most_frequent_customer()` below.\n"
      ],
      "metadata": {
        "id": "LRT9waRErunc"
      }
    },
    {
      "cell_type": "code",
      "source": [
        "import csv\n",
        "\n",
        "def most_frequent_customer(reader):\n",
        "    ### YOUR CODE HERE\n",
        "    IDs=set() #keeps the IDs\n",
        "    listID=[]\n",
        "    frequent=[]\n",
        "    for row in reader:\n",
        "      IDs.add(row['Customer ID'])\n",
        "      listID.append(row['Customer ID'])\n",
        "    uniqueIDs=list(IDs)#created a list with Unique IDs\n",
        "    for i in range(len(uniqueIDs)):\n",
        "      frequent.append(0)\n",
        "      for j in range(len(listID)):\n",
        "        if uniqueIDs[i]==listID[j]:\n",
        "          frequent[i]+=1\n",
        "    return uniqueIDs[frequent.index(max(frequent))], max(frequent)\n",
        "\n",
        "\n",
        "with open('sales.csv', 'r') as fi:\n",
        "    reader = csv.DictReader(fi)\n",
        "    print(most_frequent_customer(reader))"
      ],
      "metadata": {
        "colab": {
          "base_uri": "https://localhost:8080/"
        },
        "id": "0hz4fwpdooVj",
        "outputId": "1766e028-47a5-4dbf-c9da-efe342070290"
      },
      "execution_count": null,
      "outputs": [
        {
          "output_type": "stream",
          "name": "stdout",
          "text": [
            "('5993816857', 135)\n"
          ]
        }
      ]
    }
  ]
}