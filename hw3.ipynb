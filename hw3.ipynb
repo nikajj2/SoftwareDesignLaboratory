{
  "nbformat": 4,
  "nbformat_minor": 0,
  "metadata": {
    "colab": {
      "provenance": [],
      "toc_visible": true
    },
    "kernelspec": {
      "name": "python3",
      "display_name": "Python 3"
    },
    "language_info": {
      "name": "python"
    }
  },
  "cells": [
    {
      "cell_type": "markdown",
      "source": [
        "# Homework 3 - Object-Oriented Programming\n",
        "\n",
        "\n",
        "Please use the most appropriate data structures (i.e. the most efficient in terms of time and storage) if required for each task. Before working on your tasks, make sure to run the cell direclty below to download data files into your Colab environment."
      ],
      "metadata": {
        "id": "QDdy3qZuv3cB"
      }
    },
    {
      "cell_type": "markdown",
      "source": [
        "## Task 1 - Flight Time\n",
        "Design two classes: **`Flight`** and **`Itinerary`**.\n",
        "\n",
        "The `Flight` class stores the information about a flight with the following members:\n",
        "\n",
        "1. A private data field named **`flightNumber`** of the `string` type with *getter* function.\n",
        "2. A private data field named **`departureTime`** of the `datetime` type with getter and *setter* functions.\n",
        "3. A private data field named **`arrivalTime`** of the `datetime` type with *getter* and *setter* functions.\n",
        "4. A constructor that creates a `Flight` with the specified `flightNumber`, `departureTime`, and `arrivalTime`. When no departure and arrival time are specified, initialize them to the current time (`now()`).\n",
        "5. A function named **`getFlightTime()`** that returns the flight time in minutes. (HINT: checkout Python's [`timedelta`](https://docs.python.org/3/library/datetime.html#timedelta-objects) object for computing time differences).\n",
        "\n",
        "The `Itinerary` class stores the information about itinerary with the following members:\n",
        "\n",
        "1. A non-private data field named **`flights`** of the list type. The list contains the flights for the itinerary in **increasing** order of `departureTime`.\n",
        "2. A constructor that creates an `Itinerary` with the specified `fights`.\n",
        "3. A function named **`getTotalTravelTime()`** that returns the total travel time in minutes from the depature time and the first flight to the arrival time of the last flight in the itinerary.\n",
        "4. A function named **`getTotalFlightTime()`** that returns the total flight time in minutes for all flights in the itinerary (i.e. the sum of each segment flight time).\n",
        "5. Override the **\\_\\_str\\_\\_()** method so that it returns a tabular string listing the flight information, in the following format:\n",
        "\n",
        "```\n",
        "+---------------+--------------+--------------+\n",
        "+ Flight Number + Departure    + Arrival      +\n",
        "+---------------+--------------+--------------+\n",
        "+ flightNumber  + MMM DD, YYYY + MMM DD, YYYY +\n",
        "+               + HH:MM AM/PM  + HH:MM AM/PM  +\n",
        "+---------------+--------------+--------------+\n",
        "+ ....                                        +\n",
        "+ ....                                        +\n",
        "+---------------+--------------+--------------+\n",
        "```\n",
        "\n",
        "For example:\n",
        "\n",
        "```\n",
        "+---------------+--------------+--------------+\n",
        "+ Flight Number + Departure    + Arrival      +\n",
        "+---------------+--------------+--------------+\n",
        "+ US230         + Apr 05, 2022 + Apr 05, 2022 +\n",
        "+               + 05:05 AM     + 06:15 AM     +\n",
        "+---------------+--------------+--------------+\n",
        "+ US235         + Apr 05, 2022 + Apr 05, 2022 +\n",
        "+               + 06:55 AM     + 07:45 AM     +\n",
        "+---------------+--------------+--------------+\n",
        "+ US237         + Apr 05, 2022 + Apr 05, 2022 +\n",
        "+               + 09:35 AM     + 12:55 PM     +\n",
        "+---------------+--------------+--------------+\n",
        "```\n",
        "(HINT: checkout Python's [`strftime`](https://docs.python.org/3/library/datetime.html#strftime-and-strptime-format-codes) for how to format a datetime string following a format)\n",
        "\n",
        "But first of all, please show the UML diagrams for the two classes above in the next cell. You can use Lucidchart like we did in class."
      ],
      "metadata": {
        "id": "gu-rYJ9VwmMD"
      }
    },
    {
      "cell_type": "markdown",
      "source": [
        "**[Double-click/edit to insert your UML diagram in this cell]**\n",
        "![diag.svg](data:image/svg+xml;base64,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)\n"
      ],
      "metadata": {
        "id": "ZlAh9RYUrVFH"
      }
    },
    {
      "cell_type": "markdown",
      "source": [
        "**Complete the two class implementation in the next cell**"
      ],
      "metadata": {
        "id": "w79gyqe5rz6x"
      }
    },
    {
      "cell_type": "code",
      "source": [
        "import datetime\n",
        "from collections import defaultdict\n",
        "\n",
        "class Flight:\n",
        "    def __init__(self, flightNumber, departureTime=datetime.datetime.now(), arrivalTime=datetime.datetime.now()):\n",
        "      self.__flightNumber=flightNumber\n",
        "      self.__departureTime=departureTime\n",
        "      self.__arrivalTime=arrivalTime\n",
        "\n",
        "    def getFlightNumber(self):\n",
        "      return self.__flightNumber\n",
        "    def getDepartureTime(self):\n",
        "      return self.__departureTime\n",
        "    def getArrivalTime(self):\n",
        "      return self.__arrivalTime\n",
        "\n",
        "    def setDepartureTime(self,departureTime):\n",
        "      self.__departureTime=departureTime\n",
        "    def setArrivalTime(self,arrivalTime):\n",
        "       self.__arrivalTime=arrivalTime\n",
        "\n",
        "    def getFlightTime(self):\n",
        "      return (self.__arrivalTime-self.__departureTime).total_seconds()/60\n",
        "\n",
        "class Itinerary():\n",
        "  def __init__(self, flights):\n",
        "    time= defaultdict(Flight)\n",
        "    for f in flights:\n",
        "      time[str(f.getDepartureTime())]=f\n",
        "    self.flights=list(dict(sorted(time.items(), key=lambda x:x[0])).values())\n",
        "  def getTotalTravelTime(self):\n",
        "    return (self.flights[-1].getArrivalTime() - self.flights[0].getDepartureTime()).total_seconds()/60\n",
        "  def getTotalFlightTime(self):\n",
        "    return sum(map(lambda x:x.getFlightTime(), self.flights))\n",
        "\n",
        "  def __str__(self):\n",
        "    x=\"+---------------+--------------+--------------+\\n\"\n",
        "    final=x+\"+ Flight Number + Departure    + Arrival      +\\n\"+x\n",
        "    for a in flights:\n",
        "      final=final+\"+ \" +a.getFlightNumber()+\"         + \"+ a.getDepartureTime().strftime(\"%b %d, %Y + \") + a.getArrivalTime().strftime(\"%b %d, %Y + \\n\")\n",
        "      final=final+\"+               + \"+ a.getDepartureTime().strftime(\"%I:%M %p     + \")+a.getArrivalTime().strftime(\"%I:%M %p     +\\n\")\n",
        "      final=final+x\n",
        "    return final\n",
        "\n"
      ],
      "metadata": {
        "id": "5hb4amZdrUrp"
      },
      "execution_count": 4,
      "outputs": []
    },
    {
      "cell_type": "markdown",
      "source": [
        "**Use the next cell to test your class**"
      ],
      "metadata": {
        "id": "n5_9G7RGr96i"
      }
    },
    {
      "cell_type": "code",
      "source": [
        "### MUST RUN AS-IS WITHOUT ANY EDITS\n",
        "flights = [\n",
        "    Flight(\"US230\", datetime.datetime(2022, 4, 5, 5, 5, 0),datetime.datetime(2022, 4, 5, 6, 15, 0)),\n",
        "    Flight(\"US235\",\n",
        "           datetime.datetime(2022, 4, 5, 6, 55, 0),\n",
        "           datetime.datetime(2022, 4, 5, 7, 45, 0)),\n",
        "           ]\n",
        "last = Flight(\"US237\")\n",
        "last.setDepartureTime(datetime.datetime(2022, 4, 5, 9, 35, 0))\n",
        "last.setArrivalTime(datetime.datetime(2022, 4, 5, 12, 55, 0))\n",
        "flights.append(last)\n",
        "first = flights[0]\n",
        "print(f'The first flight is {first.getFlightNumber()} with the flight time of',\n",
        "       'minutes.')\n",
        "first.getFlightTime()\n",
        "itin = Itinerary(flights)\n",
        "print(f'The total travel time is {itin.getTotalTravelTime()} minutes.')\n",
        "print(f'The total flight time is {itin.getTotalFlightTime()} minutes.')\n",
        "print(itin)"
      ],
      "metadata": {
        "colab": {
          "base_uri": "https://localhost:8080/"
        },
        "id": "ljaYqF5V9QbM",
        "outputId": "69fff9fd-24e4-4d97-8454-8e221060b5be"
      },
      "execution_count": 3,
      "outputs": [
        {
          "output_type": "stream",
          "name": "stdout",
          "text": [
            "The first flight is US230 with the flight time of minutes.\n",
            "The total travel time is 470.0 minutes.\n",
            "The total flight time is 320.0 minutes.\n",
            "+---------------+--------------+--------------+\n",
            "+ Flight Number + Departure    + Arrival      +\n",
            "+---------------+--------------+--------------+\n",
            "+ US230         + Apr 05, 2022 + Apr 05, 2022 + \n",
            "+               + 05:05 AM     + 06:15 AM     +\n",
            "+---------------+--------------+--------------+\n",
            "+ US235         + Apr 05, 2022 + Apr 05, 2022 + \n",
            "+               + 06:55 AM     + 07:45 AM     +\n",
            "+---------------+--------------+--------------+\n",
            "+ US237         + Apr 05, 2022 + Apr 05, 2022 + \n",
            "+               + 09:35 AM     + 12:55 PM     +\n",
            "+---------------+--------------+--------------+\n",
            "\n"
          ]
        }
      ]
    },
    {
      "cell_type": "markdown",
      "source": [
        "## Task 2  - A \"Smarter\" Itinerary Class\n",
        "\n",
        "You are asked to create a `SmartItinerary` class deriving from `Itinerary` from Task 1 with the following addition members:\n",
        "\n",
        "1. A constructor that takes no arguments and initialize the `flights` data member with an empty list of flights.\n",
        "\n",
        "2. A function **`addFlight()`** that takes arguments similar to the constructor of the `Flight` class, however, `departureTime` and `arrivalTime` are expected to be strings of format `YYYY-MM-DD HH:MM`.\n",
        "\n",
        "Please complete your code in the next cell, and use the cell following that for testing purposes.\n"
      ],
      "metadata": {
        "id": "K8ZIpU4BxT1h"
      }
    },
    {
      "cell_type": "code",
      "source": [
        "class SmartItinerary(Itinerary):\n",
        "  def __init__(self):\n",
        "    self.flights=[]\n",
        "  def addFlight(self, flightNumber,departureTime, arrivalTime ):\n",
        "    flight=Flight(flightNumber, datetime.datetime.strptime(departureTime, \"%Y-%m-%d %H:%M\"), datetime.datetime.strptime(arrivalTime, \"%Y-%m-%d %H:%M\"))\n",
        "    self.flights.append(flight)\n",
        "    super().__init__(self.flights)"
      ],
      "metadata": {
        "id": "ZcvTbUD_tq4u"
      },
      "execution_count": null,
      "outputs": []
    },
    {
      "cell_type": "code",
      "source": [
        "### MUST RUN AS-IS WITHOUT ANY EDITS\n",
        "itin = SmartItinerary()\n",
        "itin.addFlight('US230', '2022-04-05 05:05', '2022-04-05 06:15')\n",
        "itin.addFlight('US235', '2022-04-05 06:55', '2022-04-05 07:45')\n",
        "itin.addFlight('US237', '2022-04-05 09:35', '2022-04-05 12:55')\n",
        "print(f'The total travel time is {itin.getTotalTravelTime()} minutes.')\n",
        "print(f'The total flight time is {itin.getTotalFlightTime()} minutes.')\n",
        "print(itin)"
      ],
      "metadata": {
        "colab": {
          "base_uri": "https://localhost:8080/"
        },
        "id": "p_TPDZyQ8T4E",
        "outputId": "62d08787-ce8e-48e4-a719-4a9f49a8d2e5"
      },
      "execution_count": null,
      "outputs": [
        {
          "output_type": "stream",
          "name": "stdout",
          "text": [
            "The total travel time is 470.0 minutes.\n",
            "The total flight time is 320.0 minutes.\n",
            "+---------------+--------------+--------------+\n",
            "+ Flight Number + Departure    + Arrival      +\n",
            "+---------------+--------------+--------------+\n",
            "+ US230         + Apr 05, 2022 + Apr 05, 2022 + \n",
            "+               + 05:05 AM     + 06:15 AM     +\n",
            "+---------------+--------------+--------------+\n",
            "+ US235         + Apr 05, 2022 + Apr 05, 2022 + \n",
            "+               + 06:55 AM     + 07:45 AM     +\n",
            "+---------------+--------------+--------------+\n",
            "+ US237         + Apr 05, 2022 + Apr 05, 2022 + \n",
            "+               + 09:35 AM     + 12:55 PM     +\n",
            "+---------------+--------------+--------------+\n",
            "\n"
          ]
        }
      ]
    }
  ]
}